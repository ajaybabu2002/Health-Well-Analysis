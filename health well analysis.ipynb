{
 "cells": [
  {
   "cell_type": "markdown",
   "id": "57e202fe",
   "metadata": {},
   "source": [
    "# HEALTHWELL ANALYSIS"
   ]
  },
  {
   "cell_type": "code",
   "execution_count": 61,
   "id": "f586f620",
   "metadata": {},
   "outputs": [],
   "source": [
    "import numpy as np\n",
    "import pandas as pd\n",
    "import matplotlib.pyplot as plt\n",
    "import seaborn as sns\n",
    "%matplotlib inline"
   ]
  },
  {
   "cell_type": "code",
   "execution_count": 62,
   "id": "25e94e82",
   "metadata": {},
   "outputs": [],
   "source": [
    "df1=pd.read_excel(\"C:\\\\Users\\\\ajaya\\\\Downloads\\\\Assignment - Data Analysis\\\\Healthwell Data\\\\Healthwell Customer Data.xlsx\",engine='openpyxl')\n",
    "df2=pd.read_csv(\"C:\\\\Users\\\\ajaya\\\\Downloads\\\\Assignment - Data Analysis\\\\Healthwell Data\\\\Healthwell Money claimed Data.csv\")"
   ]
  },
  {
   "cell_type": "code",
   "execution_count": 63,
   "id": "f9d4db9e",
   "metadata": {},
   "outputs": [
    {
     "data": {
      "text/html": [
       "<div>\n",
       "<style scoped>\n",
       "    .dataframe tbody tr th:only-of-type {\n",
       "        vertical-align: middle;\n",
       "    }\n",
       "\n",
       "    .dataframe tbody tr th {\n",
       "        vertical-align: top;\n",
       "    }\n",
       "\n",
       "    .dataframe thead th {\n",
       "        text-align: right;\n",
       "    }\n",
       "</style>\n",
       "<table border=\"1\" class=\"dataframe\">\n",
       "  <thead>\n",
       "    <tr style=\"text-align: right;\">\n",
       "      <th></th>\n",
       "      <th>Policy no.</th>\n",
       "      <th>children</th>\n",
       "      <th>smoker</th>\n",
       "      <th>region</th>\n",
       "    </tr>\n",
       "  </thead>\n",
       "  <tbody>\n",
       "    <tr>\n",
       "      <th>0</th>\n",
       "      <td>PLC157006</td>\n",
       "      <td>0</td>\n",
       "      <td>no</td>\n",
       "      <td>southwest</td>\n",
       "    </tr>\n",
       "    <tr>\n",
       "      <th>1</th>\n",
       "      <td>PLC157033</td>\n",
       "      <td>1</td>\n",
       "      <td>no</td>\n",
       "      <td>southwest</td>\n",
       "    </tr>\n",
       "    <tr>\n",
       "      <th>2</th>\n",
       "      <td>PLC157060</td>\n",
       "      <td>0</td>\n",
       "      <td>no</td>\n",
       "      <td>southwest</td>\n",
       "    </tr>\n",
       "    <tr>\n",
       "      <th>3</th>\n",
       "      <td>PLC157087</td>\n",
       "      <td>1</td>\n",
       "      <td>no</td>\n",
       "      <td>southwest</td>\n",
       "    </tr>\n",
       "    <tr>\n",
       "      <th>4</th>\n",
       "      <td>PLC157186</td>\n",
       "      <td>5</td>\n",
       "      <td>no</td>\n",
       "      <td>southwest</td>\n",
       "    </tr>\n",
       "  </tbody>\n",
       "</table>\n",
       "</div>"
      ],
      "text/plain": [
       "  Policy no.  children smoker     region\n",
       "0  PLC157006         0     no  southwest\n",
       "1  PLC157033         1     no  southwest\n",
       "2  PLC157060         0     no  southwest\n",
       "3  PLC157087         1     no  southwest\n",
       "4  PLC157186         5     no  southwest"
      ]
     },
     "execution_count": 63,
     "metadata": {},
     "output_type": "execute_result"
    }
   ],
   "source": [
    "df1.head()"
   ]
  },
  {
   "cell_type": "code",
   "execution_count": 64,
   "id": "b5eb3df7",
   "metadata": {},
   "outputs": [
    {
     "data": {
      "text/html": [
       "<div>\n",
       "<style scoped>\n",
       "    .dataframe tbody tr th:only-of-type {\n",
       "        vertical-align: middle;\n",
       "    }\n",
       "\n",
       "    .dataframe tbody tr th {\n",
       "        vertical-align: top;\n",
       "    }\n",
       "\n",
       "    .dataframe thead th {\n",
       "        text-align: right;\n",
       "    }\n",
       "</style>\n",
       "<table border=\"1\" class=\"dataframe\">\n",
       "  <thead>\n",
       "    <tr style=\"text-align: right;\">\n",
       "      <th></th>\n",
       "      <th>Policy no.</th>\n",
       "      <th>age</th>\n",
       "      <th>sex</th>\n",
       "      <th>bmi</th>\n",
       "      <th>charges in INR</th>\n",
       "    </tr>\n",
       "  </thead>\n",
       "  <tbody>\n",
       "    <tr>\n",
       "      <th>0</th>\n",
       "      <td>PLC156898</td>\n",
       "      <td>19</td>\n",
       "      <td>female</td>\n",
       "      <td>27.900</td>\n",
       "      <td>16884.92400</td>\n",
       "    </tr>\n",
       "    <tr>\n",
       "      <th>1</th>\n",
       "      <td>PLC156907</td>\n",
       "      <td>18</td>\n",
       "      <td>male</td>\n",
       "      <td>33.770</td>\n",
       "      <td>1725.55230</td>\n",
       "    </tr>\n",
       "    <tr>\n",
       "      <th>2</th>\n",
       "      <td>PLC156916</td>\n",
       "      <td>28</td>\n",
       "      <td>male</td>\n",
       "      <td>33.000</td>\n",
       "      <td>4449.46200</td>\n",
       "    </tr>\n",
       "    <tr>\n",
       "      <th>3</th>\n",
       "      <td>PLC156925</td>\n",
       "      <td>33</td>\n",
       "      <td>male</td>\n",
       "      <td>22.705</td>\n",
       "      <td>21984.47061</td>\n",
       "    </tr>\n",
       "    <tr>\n",
       "      <th>4</th>\n",
       "      <td>PLC156934</td>\n",
       "      <td>32</td>\n",
       "      <td>male</td>\n",
       "      <td>28.880</td>\n",
       "      <td>3866.85520</td>\n",
       "    </tr>\n",
       "  </tbody>\n",
       "</table>\n",
       "</div>"
      ],
      "text/plain": [
       "  Policy no.  age     sex     bmi  charges in INR\n",
       "0  PLC156898   19  female  27.900     16884.92400\n",
       "1  PLC156907   18    male  33.770      1725.55230\n",
       "2  PLC156916   28    male  33.000      4449.46200\n",
       "3  PLC156925   33    male  22.705     21984.47061\n",
       "4  PLC156934   32    male  28.880      3866.85520"
      ]
     },
     "execution_count": 64,
     "metadata": {},
     "output_type": "execute_result"
    }
   ],
   "source": [
    "df2.head()"
   ]
  },
  {
   "cell_type": "markdown",
   "id": "b29b11df",
   "metadata": {},
   "source": [
    "#### merging the two data set "
   ]
  },
  {
   "cell_type": "code",
   "execution_count": 65,
   "id": "35a5153c",
   "metadata": {},
   "outputs": [
    {
     "data": {
      "text/html": [
       "<div>\n",
       "<style scoped>\n",
       "    .dataframe tbody tr th:only-of-type {\n",
       "        vertical-align: middle;\n",
       "    }\n",
       "\n",
       "    .dataframe tbody tr th {\n",
       "        vertical-align: top;\n",
       "    }\n",
       "\n",
       "    .dataframe thead th {\n",
       "        text-align: right;\n",
       "    }\n",
       "</style>\n",
       "<table border=\"1\" class=\"dataframe\">\n",
       "  <thead>\n",
       "    <tr style=\"text-align: right;\">\n",
       "      <th></th>\n",
       "      <th>Policy no.</th>\n",
       "      <th>children</th>\n",
       "      <th>smoker</th>\n",
       "      <th>region</th>\n",
       "      <th>age</th>\n",
       "      <th>sex</th>\n",
       "      <th>bmi</th>\n",
       "      <th>charges in INR</th>\n",
       "    </tr>\n",
       "  </thead>\n",
       "  <tbody>\n",
       "    <tr>\n",
       "      <th>0</th>\n",
       "      <td>PLC157006</td>\n",
       "      <td>0</td>\n",
       "      <td>no</td>\n",
       "      <td>southwest</td>\n",
       "      <td>23</td>\n",
       "      <td>male</td>\n",
       "      <td>34.400</td>\n",
       "      <td>1826.84300</td>\n",
       "    </tr>\n",
       "    <tr>\n",
       "      <th>1</th>\n",
       "      <td>PLC157033</td>\n",
       "      <td>1</td>\n",
       "      <td>no</td>\n",
       "      <td>southwest</td>\n",
       "      <td>19</td>\n",
       "      <td>male</td>\n",
       "      <td>24.600</td>\n",
       "      <td>1837.23700</td>\n",
       "    </tr>\n",
       "    <tr>\n",
       "      <th>2</th>\n",
       "      <td>PLC157060</td>\n",
       "      <td>0</td>\n",
       "      <td>no</td>\n",
       "      <td>southwest</td>\n",
       "      <td>56</td>\n",
       "      <td>male</td>\n",
       "      <td>40.300</td>\n",
       "      <td>10602.38500</td>\n",
       "    </tr>\n",
       "    <tr>\n",
       "      <th>3</th>\n",
       "      <td>PLC157087</td>\n",
       "      <td>1</td>\n",
       "      <td>no</td>\n",
       "      <td>southwest</td>\n",
       "      <td>30</td>\n",
       "      <td>female</td>\n",
       "      <td>32.400</td>\n",
       "      <td>4149.73600</td>\n",
       "    </tr>\n",
       "    <tr>\n",
       "      <th>4</th>\n",
       "      <td>PLC157186</td>\n",
       "      <td>5</td>\n",
       "      <td>no</td>\n",
       "      <td>southwest</td>\n",
       "      <td>19</td>\n",
       "      <td>female</td>\n",
       "      <td>28.600</td>\n",
       "      <td>4687.79700</td>\n",
       "    </tr>\n",
       "    <tr>\n",
       "      <th>...</th>\n",
       "      <td>...</td>\n",
       "      <td>...</td>\n",
       "      <td>...</td>\n",
       "      <td>...</td>\n",
       "      <td>...</td>\n",
       "      <td>...</td>\n",
       "      <td>...</td>\n",
       "      <td>...</td>\n",
       "    </tr>\n",
       "    <tr>\n",
       "      <th>1333</th>\n",
       "      <td>PLC168400</td>\n",
       "      <td>1</td>\n",
       "      <td>yes</td>\n",
       "      <td>northeast</td>\n",
       "      <td>39</td>\n",
       "      <td>male</td>\n",
       "      <td>29.925</td>\n",
       "      <td>22462.04375</td>\n",
       "    </tr>\n",
       "    <tr>\n",
       "      <th>1334</th>\n",
       "      <td>PLC168436</td>\n",
       "      <td>0</td>\n",
       "      <td>yes</td>\n",
       "      <td>northeast</td>\n",
       "      <td>18</td>\n",
       "      <td>female</td>\n",
       "      <td>21.660</td>\n",
       "      <td>14283.45940</td>\n",
       "    </tr>\n",
       "    <tr>\n",
       "      <th>1335</th>\n",
       "      <td>PLC168634</td>\n",
       "      <td>2</td>\n",
       "      <td>yes</td>\n",
       "      <td>northeast</td>\n",
       "      <td>42</td>\n",
       "      <td>male</td>\n",
       "      <td>24.605</td>\n",
       "      <td>21259.37795</td>\n",
       "    </tr>\n",
       "    <tr>\n",
       "      <th>1336</th>\n",
       "      <td>PLC168652</td>\n",
       "      <td>0</td>\n",
       "      <td>yes</td>\n",
       "      <td>northeast</td>\n",
       "      <td>29</td>\n",
       "      <td>female</td>\n",
       "      <td>21.850</td>\n",
       "      <td>16115.30450</td>\n",
       "    </tr>\n",
       "    <tr>\n",
       "      <th>1337</th>\n",
       "      <td>PLC168787</td>\n",
       "      <td>0</td>\n",
       "      <td>yes</td>\n",
       "      <td>northeast</td>\n",
       "      <td>62</td>\n",
       "      <td>male</td>\n",
       "      <td>26.695</td>\n",
       "      <td>28101.33305</td>\n",
       "    </tr>\n",
       "  </tbody>\n",
       "</table>\n",
       "<p>1338 rows × 8 columns</p>\n",
       "</div>"
      ],
      "text/plain": [
       "     Policy no.  children smoker     region  age     sex     bmi  \\\n",
       "0     PLC157006         0     no  southwest   23    male  34.400   \n",
       "1     PLC157033         1     no  southwest   19    male  24.600   \n",
       "2     PLC157060         0     no  southwest   56    male  40.300   \n",
       "3     PLC157087         1     no  southwest   30  female  32.400   \n",
       "4     PLC157186         5     no  southwest   19  female  28.600   \n",
       "...         ...       ...    ...        ...  ...     ...     ...   \n",
       "1333  PLC168400         1    yes  northeast   39    male  29.925   \n",
       "1334  PLC168436         0    yes  northeast   18  female  21.660   \n",
       "1335  PLC168634         2    yes  northeast   42    male  24.605   \n",
       "1336  PLC168652         0    yes  northeast   29  female  21.850   \n",
       "1337  PLC168787         0    yes  northeast   62    male  26.695   \n",
       "\n",
       "      charges in INR  \n",
       "0         1826.84300  \n",
       "1         1837.23700  \n",
       "2        10602.38500  \n",
       "3         4149.73600  \n",
       "4         4687.79700  \n",
       "...              ...  \n",
       "1333     22462.04375  \n",
       "1334     14283.45940  \n",
       "1335     21259.37795  \n",
       "1336     16115.30450  \n",
       "1337     28101.33305  \n",
       "\n",
       "[1338 rows x 8 columns]"
      ]
     },
     "execution_count": 65,
     "metadata": {},
     "output_type": "execute_result"
    }
   ],
   "source": [
    "df=pd.merge(df1,df2)\n",
    "df"
   ]
  },
  {
   "cell_type": "code",
   "execution_count": 66,
   "id": "4e650786",
   "metadata": {},
   "outputs": [
    {
     "data": {
      "text/html": [
       "<div>\n",
       "<style scoped>\n",
       "    .dataframe tbody tr th:only-of-type {\n",
       "        vertical-align: middle;\n",
       "    }\n",
       "\n",
       "    .dataframe tbody tr th {\n",
       "        vertical-align: top;\n",
       "    }\n",
       "\n",
       "    .dataframe thead th {\n",
       "        text-align: right;\n",
       "    }\n",
       "</style>\n",
       "<table border=\"1\" class=\"dataframe\">\n",
       "  <thead>\n",
       "    <tr style=\"text-align: right;\">\n",
       "      <th></th>\n",
       "      <th>Policy no.</th>\n",
       "      <th>children</th>\n",
       "      <th>smoker</th>\n",
       "      <th>region</th>\n",
       "      <th>age</th>\n",
       "      <th>sex</th>\n",
       "      <th>bmi</th>\n",
       "      <th>charges in INR</th>\n",
       "    </tr>\n",
       "  </thead>\n",
       "  <tbody>\n",
       "    <tr>\n",
       "      <th>0</th>\n",
       "      <td>PLC157006</td>\n",
       "      <td>0</td>\n",
       "      <td>no</td>\n",
       "      <td>southwest</td>\n",
       "      <td>23</td>\n",
       "      <td>male</td>\n",
       "      <td>34.4</td>\n",
       "      <td>1826.843</td>\n",
       "    </tr>\n",
       "    <tr>\n",
       "      <th>1</th>\n",
       "      <td>PLC157033</td>\n",
       "      <td>1</td>\n",
       "      <td>no</td>\n",
       "      <td>southwest</td>\n",
       "      <td>19</td>\n",
       "      <td>male</td>\n",
       "      <td>24.6</td>\n",
       "      <td>1837.237</td>\n",
       "    </tr>\n",
       "    <tr>\n",
       "      <th>2</th>\n",
       "      <td>PLC157060</td>\n",
       "      <td>0</td>\n",
       "      <td>no</td>\n",
       "      <td>southwest</td>\n",
       "      <td>56</td>\n",
       "      <td>male</td>\n",
       "      <td>40.3</td>\n",
       "      <td>10602.385</td>\n",
       "    </tr>\n",
       "    <tr>\n",
       "      <th>3</th>\n",
       "      <td>PLC157087</td>\n",
       "      <td>1</td>\n",
       "      <td>no</td>\n",
       "      <td>southwest</td>\n",
       "      <td>30</td>\n",
       "      <td>female</td>\n",
       "      <td>32.4</td>\n",
       "      <td>4149.736</td>\n",
       "    </tr>\n",
       "    <tr>\n",
       "      <th>4</th>\n",
       "      <td>PLC157186</td>\n",
       "      <td>5</td>\n",
       "      <td>no</td>\n",
       "      <td>southwest</td>\n",
       "      <td>19</td>\n",
       "      <td>female</td>\n",
       "      <td>28.6</td>\n",
       "      <td>4687.797</td>\n",
       "    </tr>\n",
       "  </tbody>\n",
       "</table>\n",
       "</div>"
      ],
      "text/plain": [
       "  Policy no.  children smoker     region  age     sex   bmi  charges in INR\n",
       "0  PLC157006         0     no  southwest   23    male  34.4        1826.843\n",
       "1  PLC157033         1     no  southwest   19    male  24.6        1837.237\n",
       "2  PLC157060         0     no  southwest   56    male  40.3       10602.385\n",
       "3  PLC157087         1     no  southwest   30  female  32.4        4149.736\n",
       "4  PLC157186         5     no  southwest   19  female  28.6        4687.797"
      ]
     },
     "execution_count": 66,
     "metadata": {},
     "output_type": "execute_result"
    }
   ],
   "source": [
    "df.head()"
   ]
  },
  {
   "cell_type": "code",
   "execution_count": 67,
   "id": "0ccfe620",
   "metadata": {},
   "outputs": [
    {
     "data": {
      "text/plain": [
       "(1338, 8)"
      ]
     },
     "execution_count": 67,
     "metadata": {},
     "output_type": "execute_result"
    }
   ],
   "source": [
    "df.shape"
   ]
  },
  {
   "cell_type": "markdown",
   "id": "398f867f",
   "metadata": {},
   "source": [
    "### This dataset contains 1330 rows and 7 columns"
   ]
  },
  {
   "cell_type": "code",
   "execution_count": 68,
   "id": "a5d395a9",
   "metadata": {},
   "outputs": [
    {
     "name": "stdout",
     "output_type": "stream",
     "text": [
      "<class 'pandas.core.frame.DataFrame'>\n",
      "Int64Index: 1338 entries, 0 to 1337\n",
      "Data columns (total 8 columns):\n",
      " #   Column          Non-Null Count  Dtype  \n",
      "---  ------          --------------  -----  \n",
      " 0   Policy no.      1338 non-null   object \n",
      " 1   children        1338 non-null   int64  \n",
      " 2   smoker          1338 non-null   object \n",
      " 3   region          1338 non-null   object \n",
      " 4   age             1338 non-null   int64  \n",
      " 5   sex             1338 non-null   object \n",
      " 6   bmi             1338 non-null   float64\n",
      " 7   charges in INR  1338 non-null   float64\n",
      "dtypes: float64(2), int64(2), object(4)\n",
      "memory usage: 94.1+ KB\n"
     ]
    }
   ],
   "source": [
    "df.info()"
   ]
  },
  {
   "cell_type": "markdown",
   "id": "b376d819",
   "metadata": {},
   "source": [
    "## Exploratory Data Analysis"
   ]
  },
  {
   "cell_type": "code",
   "execution_count": 69,
   "id": "f781b13d",
   "metadata": {},
   "outputs": [
    {
     "data": {
      "text/plain": [
       "Index(['Policy no.', 'children', 'smoker', 'region', 'age', 'sex', 'bmi',\n",
       "       'charges in INR'],\n",
       "      dtype='object')"
      ]
     },
     "execution_count": 69,
     "metadata": {},
     "output_type": "execute_result"
    }
   ],
   "source": [
    "df.columns"
   ]
  },
  {
   "cell_type": "code",
   "execution_count": 70,
   "id": "94d6f21a",
   "metadata": {},
   "outputs": [
    {
     "data": {
      "text/plain": [
       "Policy no.        0\n",
       "children          0\n",
       "smoker            0\n",
       "region            0\n",
       "age               0\n",
       "sex               0\n",
       "bmi               0\n",
       "charges in INR    0\n",
       "dtype: int64"
      ]
     },
     "execution_count": 70,
     "metadata": {},
     "output_type": "execute_result"
    }
   ],
   "source": [
    "df.isnull().sum()"
   ]
  },
  {
   "cell_type": "markdown",
   "id": "87e7856e",
   "metadata": {},
   "source": [
    "#### There are no null Values"
   ]
  },
  {
   "cell_type": "markdown",
   "id": "f643285b",
   "metadata": {},
   "source": [
    "### Q1. Does the gender of the person matter for the company as a constraint for extending policies?"
   ]
  },
  {
   "cell_type": "code",
   "execution_count": 71,
   "id": "64f1f61e",
   "metadata": {},
   "outputs": [
    {
     "data": {
      "text/html": [
       "<div>\n",
       "<style scoped>\n",
       "    .dataframe tbody tr th:only-of-type {\n",
       "        vertical-align: middle;\n",
       "    }\n",
       "\n",
       "    .dataframe tbody tr th {\n",
       "        vertical-align: top;\n",
       "    }\n",
       "\n",
       "    .dataframe thead th {\n",
       "        text-align: right;\n",
       "    }\n",
       "</style>\n",
       "<table border=\"1\" class=\"dataframe\">\n",
       "  <thead>\n",
       "    <tr style=\"text-align: right;\">\n",
       "      <th></th>\n",
       "      <th>Gender_female</th>\n",
       "      <th>Gender_male</th>\n",
       "    </tr>\n",
       "  </thead>\n",
       "  <tbody>\n",
       "    <tr>\n",
       "      <th>0</th>\n",
       "      <td>0</td>\n",
       "      <td>1</td>\n",
       "    </tr>\n",
       "    <tr>\n",
       "      <th>1</th>\n",
       "      <td>0</td>\n",
       "      <td>1</td>\n",
       "    </tr>\n",
       "    <tr>\n",
       "      <th>2</th>\n",
       "      <td>0</td>\n",
       "      <td>1</td>\n",
       "    </tr>\n",
       "    <tr>\n",
       "      <th>3</th>\n",
       "      <td>1</td>\n",
       "      <td>0</td>\n",
       "    </tr>\n",
       "    <tr>\n",
       "      <th>4</th>\n",
       "      <td>1</td>\n",
       "      <td>0</td>\n",
       "    </tr>\n",
       "  </tbody>\n",
       "</table>\n",
       "</div>"
      ],
      "text/plain": [
       "   Gender_female  Gender_male\n",
       "0              0            1\n",
       "1              0            1\n",
       "2              0            1\n",
       "3              1            0\n",
       "4              1            0"
      ]
     },
     "execution_count": 71,
     "metadata": {},
     "output_type": "execute_result"
    }
   ],
   "source": [
    "pd.get_dummies(df['sex'],prefix='Gender').head()"
   ]
  },
  {
   "cell_type": "code",
   "execution_count": 72,
   "id": "eae06cf4",
   "metadata": {},
   "outputs": [],
   "source": [
    "df=pd.concat([df,pd.get_dummies(df['sex'],prefix='Gender')],axis=1)"
   ]
  },
  {
   "cell_type": "code",
   "execution_count": 73,
   "id": "0f201991",
   "metadata": {},
   "outputs": [
    {
     "data": {
      "text/html": [
       "<div>\n",
       "<style scoped>\n",
       "    .dataframe tbody tr th:only-of-type {\n",
       "        vertical-align: middle;\n",
       "    }\n",
       "\n",
       "    .dataframe tbody tr th {\n",
       "        vertical-align: top;\n",
       "    }\n",
       "\n",
       "    .dataframe thead th {\n",
       "        text-align: right;\n",
       "    }\n",
       "</style>\n",
       "<table border=\"1\" class=\"dataframe\">\n",
       "  <thead>\n",
       "    <tr style=\"text-align: right;\">\n",
       "      <th></th>\n",
       "      <th>Policy no.</th>\n",
       "      <th>children</th>\n",
       "      <th>smoker</th>\n",
       "      <th>region</th>\n",
       "      <th>age</th>\n",
       "      <th>sex</th>\n",
       "      <th>bmi</th>\n",
       "      <th>charges in INR</th>\n",
       "      <th>Gender_female</th>\n",
       "      <th>Gender_male</th>\n",
       "    </tr>\n",
       "  </thead>\n",
       "  <tbody>\n",
       "    <tr>\n",
       "      <th>0</th>\n",
       "      <td>PLC157006</td>\n",
       "      <td>0</td>\n",
       "      <td>no</td>\n",
       "      <td>southwest</td>\n",
       "      <td>23</td>\n",
       "      <td>male</td>\n",
       "      <td>34.4</td>\n",
       "      <td>1826.843</td>\n",
       "      <td>0</td>\n",
       "      <td>1</td>\n",
       "    </tr>\n",
       "    <tr>\n",
       "      <th>1</th>\n",
       "      <td>PLC157033</td>\n",
       "      <td>1</td>\n",
       "      <td>no</td>\n",
       "      <td>southwest</td>\n",
       "      <td>19</td>\n",
       "      <td>male</td>\n",
       "      <td>24.6</td>\n",
       "      <td>1837.237</td>\n",
       "      <td>0</td>\n",
       "      <td>1</td>\n",
       "    </tr>\n",
       "    <tr>\n",
       "      <th>2</th>\n",
       "      <td>PLC157060</td>\n",
       "      <td>0</td>\n",
       "      <td>no</td>\n",
       "      <td>southwest</td>\n",
       "      <td>56</td>\n",
       "      <td>male</td>\n",
       "      <td>40.3</td>\n",
       "      <td>10602.385</td>\n",
       "      <td>0</td>\n",
       "      <td>1</td>\n",
       "    </tr>\n",
       "    <tr>\n",
       "      <th>3</th>\n",
       "      <td>PLC157087</td>\n",
       "      <td>1</td>\n",
       "      <td>no</td>\n",
       "      <td>southwest</td>\n",
       "      <td>30</td>\n",
       "      <td>female</td>\n",
       "      <td>32.4</td>\n",
       "      <td>4149.736</td>\n",
       "      <td>1</td>\n",
       "      <td>0</td>\n",
       "    </tr>\n",
       "    <tr>\n",
       "      <th>4</th>\n",
       "      <td>PLC157186</td>\n",
       "      <td>5</td>\n",
       "      <td>no</td>\n",
       "      <td>southwest</td>\n",
       "      <td>19</td>\n",
       "      <td>female</td>\n",
       "      <td>28.6</td>\n",
       "      <td>4687.797</td>\n",
       "      <td>1</td>\n",
       "      <td>0</td>\n",
       "    </tr>\n",
       "  </tbody>\n",
       "</table>\n",
       "</div>"
      ],
      "text/plain": [
       "  Policy no.  children smoker     region  age     sex   bmi  charges in INR  \\\n",
       "0  PLC157006         0     no  southwest   23    male  34.4        1826.843   \n",
       "1  PLC157033         1     no  southwest   19    male  24.6        1837.237   \n",
       "2  PLC157060         0     no  southwest   56    male  40.3       10602.385   \n",
       "3  PLC157087         1     no  southwest   30  female  32.4        4149.736   \n",
       "4  PLC157186         5     no  southwest   19  female  28.6        4687.797   \n",
       "\n",
       "   Gender_female  Gender_male  \n",
       "0              0            1  \n",
       "1              0            1  \n",
       "2              0            1  \n",
       "3              1            0  \n",
       "4              1            0  "
      ]
     },
     "execution_count": 73,
     "metadata": {},
     "output_type": "execute_result"
    }
   ],
   "source": [
    "df.head()"
   ]
  },
  {
   "cell_type": "code",
   "execution_count": 74,
   "id": "ac275a41",
   "metadata": {},
   "outputs": [
    {
     "name": "stdout",
     "output_type": "stream",
     "text": [
      "Number of Male Who taken Policy:  676\n",
      "Number of Female Who taken Policy:  662\n"
     ]
    },
    {
     "data": {
      "image/png": "[encoded data removed]",
      "text/plain": [
       "<Figure size 640x480 with 1 Axes>"
      ]
     },
     "metadata": {},
     "output_type": "display_data"
    }
   ],
   "source": [
    "sns.countplot(data=df,x='sex',label='count')\n",
    "M, F = df['sex'].value_counts()\n",
    "plt.title('Gender_count')\n",
    "print('Number of Male Who taken Policy: ',M)\n",
    "print('Number of Female Who taken Policy: ',F)"
   ]
  },
  {
   "cell_type": "markdown",
   "id": "623d7fad",
   "metadata": {},
   "source": [
    "#### From this Visualization we can understand the proportion of male and female is nearly equal.So the gender of the person doesnot matter for the company as a constraint for extending policies."
   ]
  },
  {
   "cell_type": "markdown",
   "id": "0c17daa3",
   "metadata": {},
   "source": [
    "### Q2. What is the average amount of money the company spent on each policy cover?"
   ]
  },
  {
   "cell_type": "code",
   "execution_count": 75,
   "id": "6feca946",
   "metadata": {},
   "outputs": [],
   "source": [
    "total_amount=df['charges in INR'].sum()\n",
    "total_policies=df['Policy no.'].count()\n",
    "average_amount=total_amount/total_policies"
   ]
  },
  {
   "cell_type": "code",
   "execution_count": 76,
   "id": "f3693fd5",
   "metadata": {},
   "outputs": [
    {
     "name": "stdout",
     "output_type": "stream",
     "text": [
      "The Average amount Company Spent On Each Policy Cover Is: 13270.42\n"
     ]
    }
   ],
   "source": [
    "print('The Average amount Company Spent On Each Policy Cover Is:',round(average_amount,2))"
   ]
  },
  {
   "cell_type": "markdown",
   "id": "22c28698",
   "metadata": {},
   "source": [
    "### Q3. Could you advise if the company needs to offer separate policies based upon the geographic location of the person?"
   ]
  },
  {
   "cell_type": "code",
   "execution_count": 77,
   "id": "1f8d9b56",
   "metadata": {},
   "outputs": [
    {
     "name": "stdout",
     "output_type": "stream",
     "text": [
      "No of Policies in SouthWest Region: 325\n",
      "No of Policies in SouthEast Region: 364\n",
      "No of Policies in NorthWest Region: 325\n",
      "No of Policies in NorthEast Region: 324\n"
     ]
    },
    {
     "data": {
      "image/png": "[encoded data removed]",
      "text/plain": [
       "<Figure size 640x480 with 1 Axes>"
      ]
     },
     "metadata": {},
     "output_type": "display_data"
    }
   ],
   "source": [
    "sns.countplot(data=df,y='region')\n",
    "plt.title('No of Policy By Region')\n",
    "se,sw,nw,ne=df['region'].value_counts()\n",
    "print('No of Policies in SouthWest Region:',sw)\n",
    "print('No of Policies in SouthEast Region:',se)\n",
    "print('No of Policies in NorthWest Region:',nw)\n",
    "print('No of Policies in NorthEast Region:',ne)"
   ]
  },
  {
   "cell_type": "markdown",
   "id": "6850703f",
   "metadata": {},
   "source": [
    "#### The company should implement seperate policies on the SouthWest,NorthWest,NorthEast Regions beacuse the no of policy holders is less compared to the south east region."
   ]
  },
  {
   "cell_type": "markdown",
   "id": "d025d48f",
   "metadata": {},
   "source": [
    "### Q4. Does the no. of dependents make a difference in the amount claimed?"
   ]
  },
  {
   "cell_type": "code",
   "execution_count": 78,
   "id": "8a2d0818",
   "metadata": {},
   "outputs": [
    {
     "data": {
      "image/png": "[encoded data removed]",
      "text/plain": [
       "<Figure size 640x480 with 1 Axes>"
      ]
     },
     "metadata": {},
     "output_type": "display_data"
    }
   ],
   "source": [
    "average_amount = df.groupby('children')['charges in INR'].mean().reset_index()\n",
    "sns.barplot(x='children',y='charges in INR',data=average_amount)\n",
    "plt.title('No of Dependants with Amount Claimed')\n",
    "plt.xlabel('No of Dependants')\n",
    "plt.ylabel('Avg Amount Claimed')\n",
    "plt.show()"
   ]
  },
  {
   "cell_type": "markdown",
   "id": "4d6f76df",
   "metadata": {},
   "source": [
    "##### From this Visualization we can understand that the No of dependants does affect the amount claimed.\n",
    "\n"
   ]
  },
  {
   "cell_type": "markdown",
   "id": "345c190b",
   "metadata": {},
   "source": [
    "###### 1)The most amount claimed by customer having 3 dependants.\n"
   ]
  },
  {
   "cell_type": "markdown",
   "id": "ce11ea86",
   "metadata": {},
   "source": [
    "###### 2)The least amount claimed by customer having 5 dependants."
   ]
  },
  {
   "cell_type": "markdown",
   "id": "b734f9f0",
   "metadata": {},
   "source": [
    "### Q5. Does a study of a person’s BMI give the company any idea for the insurance claim that it would extend?"
   ]
  },
  {
   "cell_type": "markdown",
   "id": "5b81e1bb",
   "metadata": {},
   "source": [
    "#### Yes studying a person's BMI give a vital role in extending the insurance claim.BMI index show the person is underweight or overweight. Underweight and Overweight  is considered as a risk factor for extending policy claim.Value under 18.5 is considered as underweight,18.5-24.9 is considered as normal weight and above 24.9 is considered as overweight."
   ]
  },
  {
   "cell_type": "code",
   "execution_count": 79,
   "id": "f421de34",
   "metadata": {},
   "outputs": [],
   "source": [
    "def weight(row):\n",
    "    if row['bmi']>24.9:\n",
    "        return 'Over Weight'\n",
    "    elif row['bmi']<18.5:\n",
    "        return 'Under Weight'\n",
    "    else:\n",
    "        return 'Normal Weight'\n",
    "df['Weight']=df.apply(weight,axis=1)"
   ]
  },
  {
   "cell_type": "code",
   "execution_count": 80,
   "id": "734711cc",
   "metadata": {},
   "outputs": [
    {
     "data": {
      "text/html": [
       "<div>\n",
       "<style scoped>\n",
       "    .dataframe tbody tr th:only-of-type {\n",
       "        vertical-align: middle;\n",
       "    }\n",
       "\n",
       "    .dataframe tbody tr th {\n",
       "        vertical-align: top;\n",
       "    }\n",
       "\n",
       "    .dataframe thead th {\n",
       "        text-align: right;\n",
       "    }\n",
       "</style>\n",
       "<table border=\"1\" class=\"dataframe\">\n",
       "  <thead>\n",
       "    <tr style=\"text-align: right;\">\n",
       "      <th></th>\n",
       "      <th>Policy no.</th>\n",
       "      <th>children</th>\n",
       "      <th>smoker</th>\n",
       "      <th>region</th>\n",
       "      <th>age</th>\n",
       "      <th>sex</th>\n",
       "      <th>bmi</th>\n",
       "      <th>charges in INR</th>\n",
       "      <th>Gender_female</th>\n",
       "      <th>Gender_male</th>\n",
       "      <th>Weight</th>\n",
       "    </tr>\n",
       "  </thead>\n",
       "  <tbody>\n",
       "    <tr>\n",
       "      <th>0</th>\n",
       "      <td>PLC157006</td>\n",
       "      <td>0</td>\n",
       "      <td>no</td>\n",
       "      <td>southwest</td>\n",
       "      <td>23</td>\n",
       "      <td>male</td>\n",
       "      <td>34.4</td>\n",
       "      <td>1826.843</td>\n",
       "      <td>0</td>\n",
       "      <td>1</td>\n",
       "      <td>Over Weight</td>\n",
       "    </tr>\n",
       "    <tr>\n",
       "      <th>1</th>\n",
       "      <td>PLC157033</td>\n",
       "      <td>1</td>\n",
       "      <td>no</td>\n",
       "      <td>southwest</td>\n",
       "      <td>19</td>\n",
       "      <td>male</td>\n",
       "      <td>24.6</td>\n",
       "      <td>1837.237</td>\n",
       "      <td>0</td>\n",
       "      <td>1</td>\n",
       "      <td>Normal Weight</td>\n",
       "    </tr>\n",
       "    <tr>\n",
       "      <th>2</th>\n",
       "      <td>PLC157060</td>\n",
       "      <td>0</td>\n",
       "      <td>no</td>\n",
       "      <td>southwest</td>\n",
       "      <td>56</td>\n",
       "      <td>male</td>\n",
       "      <td>40.3</td>\n",
       "      <td>10602.385</td>\n",
       "      <td>0</td>\n",
       "      <td>1</td>\n",
       "      <td>Over Weight</td>\n",
       "    </tr>\n",
       "    <tr>\n",
       "      <th>3</th>\n",
       "      <td>PLC157087</td>\n",
       "      <td>1</td>\n",
       "      <td>no</td>\n",
       "      <td>southwest</td>\n",
       "      <td>30</td>\n",
       "      <td>female</td>\n",
       "      <td>32.4</td>\n",
       "      <td>4149.736</td>\n",
       "      <td>1</td>\n",
       "      <td>0</td>\n",
       "      <td>Over Weight</td>\n",
       "    </tr>\n",
       "    <tr>\n",
       "      <th>4</th>\n",
       "      <td>PLC157186</td>\n",
       "      <td>5</td>\n",
       "      <td>no</td>\n",
       "      <td>southwest</td>\n",
       "      <td>19</td>\n",
       "      <td>female</td>\n",
       "      <td>28.6</td>\n",
       "      <td>4687.797</td>\n",
       "      <td>1</td>\n",
       "      <td>0</td>\n",
       "      <td>Over Weight</td>\n",
       "    </tr>\n",
       "  </tbody>\n",
       "</table>\n",
       "</div>"
      ],
      "text/plain": [
       "  Policy no.  children smoker     region  age     sex   bmi  charges in INR  \\\n",
       "0  PLC157006         0     no  southwest   23    male  34.4        1826.843   \n",
       "1  PLC157033         1     no  southwest   19    male  24.6        1837.237   \n",
       "2  PLC157060         0     no  southwest   56    male  40.3       10602.385   \n",
       "3  PLC157087         1     no  southwest   30  female  32.4        4149.736   \n",
       "4  PLC157186         5     no  southwest   19  female  28.6        4687.797   \n",
       "\n",
       "   Gender_female  Gender_male         Weight  \n",
       "0              0            1    Over Weight  \n",
       "1              0            1  Normal Weight  \n",
       "2              0            1    Over Weight  \n",
       "3              1            0    Over Weight  \n",
       "4              1            0    Over Weight  "
      ]
     },
     "execution_count": 80,
     "metadata": {},
     "output_type": "execute_result"
    }
   ],
   "source": [
    "df.head()"
   ]
  },
  {
   "cell_type": "code",
   "execution_count": 81,
   "id": "430f47ec",
   "metadata": {},
   "outputs": [
    {
     "name": "stdout",
     "output_type": "stream",
     "text": [
      "No of Policy Members With Over Weight: 1096\n",
      "No of Policy Members With Normal Weight: 222\n",
      "No of Policy Members With Under Weight: 20\n"
     ]
    },
    {
     "data": {
      "image/png": "[encoded data removed]",
      "text/plain": [
       "<Figure size 640x480 with 1 Axes>"
      ]
     },
     "metadata": {},
     "output_type": "display_data"
    }
   ],
   "source": [
    "sns.countplot(data=df,x='Weight')\n",
    "plt.title('BMI')\n",
    "plt.xlabel('Weight categories')\n",
    "plt.ylabel('Count of Members')\n",
    "\n",
    "o,n,u=df['Weight'].value_counts()\n",
    "print('No of Policy Members With Over Weight:',o)\n",
    "print('No of Policy Members With Normal Weight:',n)\n",
    "print('No of Policy Members With Under Weight:',u)"
   ]
  },
  {
   "cell_type": "markdown",
   "id": "f42a2d24",
   "metadata": {},
   "source": [
    "#### From This we can understand that most of the policy members are overweight acording to the BMI value So the company should consider before extending their policy. Or the company should Introduce new policy for the policy members to decrease the risk factor."
   ]
  },
  {
   "cell_type": "markdown",
   "id": "22685d09",
   "metadata": {},
   "source": [
    "### Q6. Is it needed for the company to understand whether the person covered is a smoker or a non-smoker?"
   ]
  },
  {
   "cell_type": "markdown",
   "id": "2d9a2e28",
   "metadata": {},
   "source": [
    "####  smoking status is often a critical factor. Smokers are at a higher risk of various health conditions, including lung cancer, heart disease, and respiratory issues."
   ]
  },
  {
   "cell_type": "code",
   "execution_count": 82,
   "id": "bf7c67f5",
   "metadata": {},
   "outputs": [
    {
     "name": "stdout",
     "output_type": "stream",
     "text": [
      "No of Policy Members Who Doesnot Smoke : 1064\n",
      "No of Policy Members Who Smokes : 274\n"
     ]
    },
    {
     "data": {
      "image/png": "[encoded data removed]",
      "text/plain": [
       "<Figure size 640x480 with 1 Axes>"
      ]
     },
     "metadata": {},
     "output_type": "display_data"
    }
   ],
   "source": [
    "sns.countplot(data=df,x='smoker')\n",
    "plt.title('No of Smokers and Non smokers')\n",
    "n,y=df['smoker'].value_counts()\n",
    "print('No of Policy Members Who Doesnot Smoke :',n)\n",
    "print('No of Policy Members Who Smokes :',y)"
   ]
  },
  {
   "cell_type": "markdown",
   "id": "35f4f05b",
   "metadata": {},
   "source": [
    "#### From this visualisation we can understand that most of the policy members are non smokers.But a small amount of people are smokers the company should increase premium amounts for policy members who smokes."
   ]
  },
  {
   "cell_type": "markdown",
   "id": "6022fc17",
   "metadata": {},
   "source": [
    "### Q7. Does age have any barrier on the insurance claimed?"
   ]
  },
  {
   "cell_type": "markdown",
   "id": "baf8932f",
   "metadata": {},
   "source": [
    "#### Age can affect health insurance claims in several ways. Older individuals may require more frequent medical care and may be more susceptible to certain health conditions.\n"
   ]
  },
  {
   "cell_type": "code",
   "execution_count": 83,
   "id": "0e95353c",
   "metadata": {},
   "outputs": [
    {
     "data": {
      "text/html": [
       "<div>\n",
       "<style scoped>\n",
       "    .dataframe tbody tr th:only-of-type {\n",
       "        vertical-align: middle;\n",
       "    }\n",
       "\n",
       "    .dataframe tbody tr th {\n",
       "        vertical-align: top;\n",
       "    }\n",
       "\n",
       "    .dataframe thead th {\n",
       "        text-align: right;\n",
       "    }\n",
       "</style>\n",
       "<table border=\"1\" class=\"dataframe\">\n",
       "  <thead>\n",
       "    <tr style=\"text-align: right;\">\n",
       "      <th></th>\n",
       "      <th>Policy no.</th>\n",
       "      <th>children</th>\n",
       "      <th>smoker</th>\n",
       "      <th>region</th>\n",
       "      <th>age</th>\n",
       "      <th>sex</th>\n",
       "      <th>bmi</th>\n",
       "      <th>charges in INR</th>\n",
       "      <th>Gender_female</th>\n",
       "      <th>Gender_male</th>\n",
       "      <th>Weight</th>\n",
       "      <th>Age_Category</th>\n",
       "    </tr>\n",
       "  </thead>\n",
       "  <tbody>\n",
       "    <tr>\n",
       "      <th>0</th>\n",
       "      <td>PLC157006</td>\n",
       "      <td>0</td>\n",
       "      <td>no</td>\n",
       "      <td>southwest</td>\n",
       "      <td>23</td>\n",
       "      <td>male</td>\n",
       "      <td>34.4</td>\n",
       "      <td>1826.843</td>\n",
       "      <td>0</td>\n",
       "      <td>1</td>\n",
       "      <td>Over Weight</td>\n",
       "      <td>Youth category</td>\n",
       "    </tr>\n",
       "    <tr>\n",
       "      <th>1</th>\n",
       "      <td>PLC157033</td>\n",
       "      <td>1</td>\n",
       "      <td>no</td>\n",
       "      <td>southwest</td>\n",
       "      <td>19</td>\n",
       "      <td>male</td>\n",
       "      <td>24.6</td>\n",
       "      <td>1837.237</td>\n",
       "      <td>0</td>\n",
       "      <td>1</td>\n",
       "      <td>Normal Weight</td>\n",
       "      <td>Youth category</td>\n",
       "    </tr>\n",
       "    <tr>\n",
       "      <th>2</th>\n",
       "      <td>PLC157060</td>\n",
       "      <td>0</td>\n",
       "      <td>no</td>\n",
       "      <td>southwest</td>\n",
       "      <td>56</td>\n",
       "      <td>male</td>\n",
       "      <td>40.3</td>\n",
       "      <td>10602.385</td>\n",
       "      <td>0</td>\n",
       "      <td>1</td>\n",
       "      <td>Over Weight</td>\n",
       "      <td>Adult Category</td>\n",
       "    </tr>\n",
       "    <tr>\n",
       "      <th>3</th>\n",
       "      <td>PLC157087</td>\n",
       "      <td>1</td>\n",
       "      <td>no</td>\n",
       "      <td>southwest</td>\n",
       "      <td>30</td>\n",
       "      <td>female</td>\n",
       "      <td>32.4</td>\n",
       "      <td>4149.736</td>\n",
       "      <td>1</td>\n",
       "      <td>0</td>\n",
       "      <td>Over Weight</td>\n",
       "      <td>Adult Category</td>\n",
       "    </tr>\n",
       "    <tr>\n",
       "      <th>4</th>\n",
       "      <td>PLC157186</td>\n",
       "      <td>5</td>\n",
       "      <td>no</td>\n",
       "      <td>southwest</td>\n",
       "      <td>19</td>\n",
       "      <td>female</td>\n",
       "      <td>28.6</td>\n",
       "      <td>4687.797</td>\n",
       "      <td>1</td>\n",
       "      <td>0</td>\n",
       "      <td>Over Weight</td>\n",
       "      <td>Youth category</td>\n",
       "    </tr>\n",
       "  </tbody>\n",
       "</table>\n",
       "</div>"
      ],
      "text/plain": [
       "  Policy no.  children smoker     region  age     sex   bmi  charges in INR  \\\n",
       "0  PLC157006         0     no  southwest   23    male  34.4        1826.843   \n",
       "1  PLC157033         1     no  southwest   19    male  24.6        1837.237   \n",
       "2  PLC157060         0     no  southwest   56    male  40.3       10602.385   \n",
       "3  PLC157087         1     no  southwest   30  female  32.4        4149.736   \n",
       "4  PLC157186         5     no  southwest   19  female  28.6        4687.797   \n",
       "\n",
       "   Gender_female  Gender_male         Weight    Age_Category  \n",
       "0              0            1    Over Weight  Youth category  \n",
       "1              0            1  Normal Weight  Youth category  \n",
       "2              0            1    Over Weight  Adult Category  \n",
       "3              1            0    Over Weight  Adult Category  \n",
       "4              1            0    Over Weight  Youth category  "
      ]
     },
     "execution_count": 83,
     "metadata": {},
     "output_type": "execute_result"
    }
   ],
   "source": [
    "def age(row):\n",
    "    if row['age']>64:\n",
    "        return 'Senor category'\n",
    "    elif row['age']<=25:\n",
    "        return 'Youth category'\n",
    "    else:\n",
    "        return 'Adult Category'\n",
    "\n",
    "df['Age_Category']=df.apply(age,axis=1)\n",
    "df.head()"
   ]
  },
  {
   "cell_type": "code",
   "execution_count": 84,
   "id": "288cfa11",
   "metadata": {},
   "outputs": [
    {
     "name": "stdout",
     "output_type": "stream",
     "text": [
      "No of policy members in Youth category : 1032\n",
      "No of Policy Members in Adult category : 306\n"
     ]
    },
    {
     "data": {
      "image/png": "[encoded data removed]",
      "text/plain": [
       "<Figure size 640x480 with 1 Axes>"
      ]
     },
     "metadata": {},
     "output_type": "display_data"
    }
   ],
   "source": [
    "sns.countplot(data=df,x='Age_Category')\n",
    "\n",
    "y,a=df['Age_Category'].value_counts()\n",
    "print('No of policy members in Youth category :',y)\n",
    "print('No of Policy Members in Adult category :',a)"
   ]
  },
  {
   "cell_type": "markdown",
   "id": "99e3803d",
   "metadata": {},
   "source": [
    "#### From this analysis we can see that there is no senior citizen thus company risk factor decreases.youth citizen and adult citizen are mostly healthy people with less chance of getting a health condition.thus the amount claimed by these category will be less."
   ]
  },
  {
   "cell_type": "markdown",
   "id": "4db86c34",
   "metadata": {},
   "source": [
    "### Q8. Can the company extend certain discounts after checking the health status (BMI) in this case?"
   ]
  },
  {
   "cell_type": "code",
   "execution_count": 85,
   "id": "baec87fd",
   "metadata": {},
   "outputs": [
    {
     "name": "stdout",
     "output_type": "stream",
     "text": [
      "No of Policy Members With Over Weight: 1096\n",
      "No of Policy Members With Normal Weight: 222\n",
      "No of Policy Members With Under Weight: 20\n"
     ]
    },
    {
     "data": {
      "image/png": "[encoded data removed]",
      "text/plain": [
       "<Figure size 640x480 with 1 Axes>"
      ]
     },
     "metadata": {},
     "output_type": "display_data"
    }
   ],
   "source": [
    "sns.countplot(data=df,x='Weight')\n",
    "plt.title('BMI')\n",
    "plt.xlabel('Weight categories')\n",
    "plt.ylabel('Count of Members')\n",
    "\n",
    "o,n,u=df['Weight'].value_counts()\n",
    "print('No of Policy Members With Over Weight:',o)\n",
    "print('No of Policy Members With Normal Weight:',n)\n",
    "print('No of Policy Members With Under Weight:',u)"
   ]
  },
  {
   "cell_type": "markdown",
   "id": "732eeb21",
   "metadata": {},
   "source": [
    "#### Yes the company can extend certain discounts after checkin health status Using BMI . normal weight is considered as healthy hence the company can extend certains discount for this particular category of people. "
   ]
  },
  {
   "cell_type": "markdown",
   "id": "e0583554",
   "metadata": {},
   "source": [
    "### from this analysis we understood that Age,BMI,Smoker,dependants are a important factor in health insurance."
   ]
  },
  {
   "cell_type": "markdown",
   "id": "7dcda51f",
   "metadata": {},
   "source": [
    "# Linear regression model"
   ]
  },
  {
   "cell_type": "code",
   "execution_count": 86,
   "id": "a2eb5f39",
   "metadata": {},
   "outputs": [],
   "source": [
    "from sklearn.model_selection import train_test_split\n",
    "from sklearn.linear_model import LinearRegression\n",
    "from sklearn.metrics import mean_squared_error, mean_absolute_error, r2_score\n",
    "from sklearn.preprocessing import LabelEncoder, StandardScaler\n",
    "from sklearn.model_selection import GridSearchCV\n",
    "from sklearn.preprocessing import StandardScaler\n",
    "from sklearn.metrics import r2_score\n",
    "\n"
   ]
  },
  {
   "cell_type": "code",
   "execution_count": 87,
   "id": "4db14d68",
   "metadata": {},
   "outputs": [],
   "source": [
    "def smok(row):\n",
    "    if row['smoker']=='no':\n",
    "        return 0\n",
    "    else:\n",
    "        return 1\n",
    "df['smoker']=df.apply(smok,axis=1)"
   ]
  },
  {
   "cell_type": "code",
   "execution_count": 88,
   "id": "ed03be8d",
   "metadata": {},
   "outputs": [
    {
     "data": {
      "text/html": [
       "<div>\n",
       "<style scoped>\n",
       "    .dataframe tbody tr th:only-of-type {\n",
       "        vertical-align: middle;\n",
       "    }\n",
       "\n",
       "    .dataframe tbody tr th {\n",
       "        vertical-align: top;\n",
       "    }\n",
       "\n",
       "    .dataframe thead th {\n",
       "        text-align: right;\n",
       "    }\n",
       "</style>\n",
       "<table border=\"1\" class=\"dataframe\">\n",
       "  <thead>\n",
       "    <tr style=\"text-align: right;\">\n",
       "      <th></th>\n",
       "      <th>Policy no.</th>\n",
       "      <th>children</th>\n",
       "      <th>smoker</th>\n",
       "      <th>region</th>\n",
       "      <th>age</th>\n",
       "      <th>sex</th>\n",
       "      <th>bmi</th>\n",
       "      <th>charges in INR</th>\n",
       "      <th>Gender_female</th>\n",
       "      <th>Gender_male</th>\n",
       "      <th>Weight</th>\n",
       "      <th>Age_Category</th>\n",
       "    </tr>\n",
       "  </thead>\n",
       "  <tbody>\n",
       "    <tr>\n",
       "      <th>0</th>\n",
       "      <td>PLC157006</td>\n",
       "      <td>0</td>\n",
       "      <td>0</td>\n",
       "      <td>southwest</td>\n",
       "      <td>23</td>\n",
       "      <td>male</td>\n",
       "      <td>34.400</td>\n",
       "      <td>1826.84300</td>\n",
       "      <td>0</td>\n",
       "      <td>1</td>\n",
       "      <td>Over Weight</td>\n",
       "      <td>Youth category</td>\n",
       "    </tr>\n",
       "    <tr>\n",
       "      <th>1</th>\n",
       "      <td>PLC157033</td>\n",
       "      <td>1</td>\n",
       "      <td>0</td>\n",
       "      <td>southwest</td>\n",
       "      <td>19</td>\n",
       "      <td>male</td>\n",
       "      <td>24.600</td>\n",
       "      <td>1837.23700</td>\n",
       "      <td>0</td>\n",
       "      <td>1</td>\n",
       "      <td>Normal Weight</td>\n",
       "      <td>Youth category</td>\n",
       "    </tr>\n",
       "    <tr>\n",
       "      <th>2</th>\n",
       "      <td>PLC157060</td>\n",
       "      <td>0</td>\n",
       "      <td>0</td>\n",
       "      <td>southwest</td>\n",
       "      <td>56</td>\n",
       "      <td>male</td>\n",
       "      <td>40.300</td>\n",
       "      <td>10602.38500</td>\n",
       "      <td>0</td>\n",
       "      <td>1</td>\n",
       "      <td>Over Weight</td>\n",
       "      <td>Adult Category</td>\n",
       "    </tr>\n",
       "    <tr>\n",
       "      <th>3</th>\n",
       "      <td>PLC157087</td>\n",
       "      <td>1</td>\n",
       "      <td>0</td>\n",
       "      <td>southwest</td>\n",
       "      <td>30</td>\n",
       "      <td>female</td>\n",
       "      <td>32.400</td>\n",
       "      <td>4149.73600</td>\n",
       "      <td>1</td>\n",
       "      <td>0</td>\n",
       "      <td>Over Weight</td>\n",
       "      <td>Adult Category</td>\n",
       "    </tr>\n",
       "    <tr>\n",
       "      <th>4</th>\n",
       "      <td>PLC157186</td>\n",
       "      <td>5</td>\n",
       "      <td>0</td>\n",
       "      <td>southwest</td>\n",
       "      <td>19</td>\n",
       "      <td>female</td>\n",
       "      <td>28.600</td>\n",
       "      <td>4687.79700</td>\n",
       "      <td>1</td>\n",
       "      <td>0</td>\n",
       "      <td>Over Weight</td>\n",
       "      <td>Youth category</td>\n",
       "    </tr>\n",
       "    <tr>\n",
       "      <th>...</th>\n",
       "      <td>...</td>\n",
       "      <td>...</td>\n",
       "      <td>...</td>\n",
       "      <td>...</td>\n",
       "      <td>...</td>\n",
       "      <td>...</td>\n",
       "      <td>...</td>\n",
       "      <td>...</td>\n",
       "      <td>...</td>\n",
       "      <td>...</td>\n",
       "      <td>...</td>\n",
       "      <td>...</td>\n",
       "    </tr>\n",
       "    <tr>\n",
       "      <th>1333</th>\n",
       "      <td>PLC168400</td>\n",
       "      <td>1</td>\n",
       "      <td>1</td>\n",
       "      <td>northeast</td>\n",
       "      <td>39</td>\n",
       "      <td>male</td>\n",
       "      <td>29.925</td>\n",
       "      <td>22462.04375</td>\n",
       "      <td>0</td>\n",
       "      <td>1</td>\n",
       "      <td>Over Weight</td>\n",
       "      <td>Adult Category</td>\n",
       "    </tr>\n",
       "    <tr>\n",
       "      <th>1334</th>\n",
       "      <td>PLC168436</td>\n",
       "      <td>0</td>\n",
       "      <td>1</td>\n",
       "      <td>northeast</td>\n",
       "      <td>18</td>\n",
       "      <td>female</td>\n",
       "      <td>21.660</td>\n",
       "      <td>14283.45940</td>\n",
       "      <td>1</td>\n",
       "      <td>0</td>\n",
       "      <td>Normal Weight</td>\n",
       "      <td>Youth category</td>\n",
       "    </tr>\n",
       "    <tr>\n",
       "      <th>1335</th>\n",
       "      <td>PLC168634</td>\n",
       "      <td>2</td>\n",
       "      <td>1</td>\n",
       "      <td>northeast</td>\n",
       "      <td>42</td>\n",
       "      <td>male</td>\n",
       "      <td>24.605</td>\n",
       "      <td>21259.37795</td>\n",
       "      <td>0</td>\n",
       "      <td>1</td>\n",
       "      <td>Normal Weight</td>\n",
       "      <td>Adult Category</td>\n",
       "    </tr>\n",
       "    <tr>\n",
       "      <th>1336</th>\n",
       "      <td>PLC168652</td>\n",
       "      <td>0</td>\n",
       "      <td>1</td>\n",
       "      <td>northeast</td>\n",
       "      <td>29</td>\n",
       "      <td>female</td>\n",
       "      <td>21.850</td>\n",
       "      <td>16115.30450</td>\n",
       "      <td>1</td>\n",
       "      <td>0</td>\n",
       "      <td>Normal Weight</td>\n",
       "      <td>Adult Category</td>\n",
       "    </tr>\n",
       "    <tr>\n",
       "      <th>1337</th>\n",
       "      <td>PLC168787</td>\n",
       "      <td>0</td>\n",
       "      <td>1</td>\n",
       "      <td>northeast</td>\n",
       "      <td>62</td>\n",
       "      <td>male</td>\n",
       "      <td>26.695</td>\n",
       "      <td>28101.33305</td>\n",
       "      <td>0</td>\n",
       "      <td>1</td>\n",
       "      <td>Over Weight</td>\n",
       "      <td>Adult Category</td>\n",
       "    </tr>\n",
       "  </tbody>\n",
       "</table>\n",
       "<p>1338 rows × 12 columns</p>\n",
       "</div>"
      ],
      "text/plain": [
       "     Policy no.  children  smoker     region  age     sex     bmi  \\\n",
       "0     PLC157006         0       0  southwest   23    male  34.400   \n",
       "1     PLC157033         1       0  southwest   19    male  24.600   \n",
       "2     PLC157060         0       0  southwest   56    male  40.300   \n",
       "3     PLC157087         1       0  southwest   30  female  32.400   \n",
       "4     PLC157186         5       0  southwest   19  female  28.600   \n",
       "...         ...       ...     ...        ...  ...     ...     ...   \n",
       "1333  PLC168400         1       1  northeast   39    male  29.925   \n",
       "1334  PLC168436         0       1  northeast   18  female  21.660   \n",
       "1335  PLC168634         2       1  northeast   42    male  24.605   \n",
       "1336  PLC168652         0       1  northeast   29  female  21.850   \n",
       "1337  PLC168787         0       1  northeast   62    male  26.695   \n",
       "\n",
       "      charges in INR  Gender_female  Gender_male         Weight  \\\n",
       "0         1826.84300              0            1    Over Weight   \n",
       "1         1837.23700              0            1  Normal Weight   \n",
       "2        10602.38500              0            1    Over Weight   \n",
       "3         4149.73600              1            0    Over Weight   \n",
       "4         4687.79700              1            0    Over Weight   \n",
       "...              ...            ...          ...            ...   \n",
       "1333     22462.04375              0            1    Over Weight   \n",
       "1334     14283.45940              1            0  Normal Weight   \n",
       "1335     21259.37795              0            1  Normal Weight   \n",
       "1336     16115.30450              1            0  Normal Weight   \n",
       "1337     28101.33305              0            1    Over Weight   \n",
       "\n",
       "        Age_Category  \n",
       "0     Youth category  \n",
       "1     Youth category  \n",
       "2     Adult Category  \n",
       "3     Adult Category  \n",
       "4     Youth category  \n",
       "...              ...  \n",
       "1333  Adult Category  \n",
       "1334  Youth category  \n",
       "1335  Adult Category  \n",
       "1336  Adult Category  \n",
       "1337  Adult Category  \n",
       "\n",
       "[1338 rows x 12 columns]"
      ]
     },
     "execution_count": 88,
     "metadata": {},
     "output_type": "execute_result"
    }
   ],
   "source": [
    "df"
   ]
  },
  {
   "cell_type": "markdown",
   "id": "203f0464",
   "metadata": {},
   "source": [
    "### Dropping unnecassery columns"
   ]
  },
  {
   "cell_type": "code",
   "execution_count": 89,
   "id": "87c05245",
   "metadata": {},
   "outputs": [],
   "source": [
    "df.drop('region',axis=1,inplace=True)\n"
   ]
  },
  {
   "cell_type": "code",
   "execution_count": 90,
   "id": "e5437b20",
   "metadata": {},
   "outputs": [],
   "source": [
    "df.drop('sex',axis=1,inplace=True)"
   ]
  },
  {
   "cell_type": "code",
   "execution_count": 91,
   "id": "8c7befc0",
   "metadata": {},
   "outputs": [
    {
     "data": {
      "text/html": [
       "<div>\n",
       "<style scoped>\n",
       "    .dataframe tbody tr th:only-of-type {\n",
       "        vertical-align: middle;\n",
       "    }\n",
       "\n",
       "    .dataframe tbody tr th {\n",
       "        vertical-align: top;\n",
       "    }\n",
       "\n",
       "    .dataframe thead th {\n",
       "        text-align: right;\n",
       "    }\n",
       "</style>\n",
       "<table border=\"1\" class=\"dataframe\">\n",
       "  <thead>\n",
       "    <tr style=\"text-align: right;\">\n",
       "      <th></th>\n",
       "      <th>Policy no.</th>\n",
       "      <th>children</th>\n",
       "      <th>smoker</th>\n",
       "      <th>age</th>\n",
       "      <th>bmi</th>\n",
       "      <th>charges in INR</th>\n",
       "      <th>Gender_female</th>\n",
       "      <th>Gender_male</th>\n",
       "      <th>Weight</th>\n",
       "      <th>Age_Category</th>\n",
       "    </tr>\n",
       "  </thead>\n",
       "  <tbody>\n",
       "    <tr>\n",
       "      <th>0</th>\n",
       "      <td>PLC157006</td>\n",
       "      <td>0</td>\n",
       "      <td>0</td>\n",
       "      <td>23</td>\n",
       "      <td>34.4</td>\n",
       "      <td>1826.843</td>\n",
       "      <td>0</td>\n",
       "      <td>1</td>\n",
       "      <td>Over Weight</td>\n",
       "      <td>Youth category</td>\n",
       "    </tr>\n",
       "    <tr>\n",
       "      <th>1</th>\n",
       "      <td>PLC157033</td>\n",
       "      <td>1</td>\n",
       "      <td>0</td>\n",
       "      <td>19</td>\n",
       "      <td>24.6</td>\n",
       "      <td>1837.237</td>\n",
       "      <td>0</td>\n",
       "      <td>1</td>\n",
       "      <td>Normal Weight</td>\n",
       "      <td>Youth category</td>\n",
       "    </tr>\n",
       "    <tr>\n",
       "      <th>2</th>\n",
       "      <td>PLC157060</td>\n",
       "      <td>0</td>\n",
       "      <td>0</td>\n",
       "      <td>56</td>\n",
       "      <td>40.3</td>\n",
       "      <td>10602.385</td>\n",
       "      <td>0</td>\n",
       "      <td>1</td>\n",
       "      <td>Over Weight</td>\n",
       "      <td>Adult Category</td>\n",
       "    </tr>\n",
       "    <tr>\n",
       "      <th>3</th>\n",
       "      <td>PLC157087</td>\n",
       "      <td>1</td>\n",
       "      <td>0</td>\n",
       "      <td>30</td>\n",
       "      <td>32.4</td>\n",
       "      <td>4149.736</td>\n",
       "      <td>1</td>\n",
       "      <td>0</td>\n",
       "      <td>Over Weight</td>\n",
       "      <td>Adult Category</td>\n",
       "    </tr>\n",
       "    <tr>\n",
       "      <th>4</th>\n",
       "      <td>PLC157186</td>\n",
       "      <td>5</td>\n",
       "      <td>0</td>\n",
       "      <td>19</td>\n",
       "      <td>28.6</td>\n",
       "      <td>4687.797</td>\n",
       "      <td>1</td>\n",
       "      <td>0</td>\n",
       "      <td>Over Weight</td>\n",
       "      <td>Youth category</td>\n",
       "    </tr>\n",
       "  </tbody>\n",
       "</table>\n",
       "</div>"
      ],
      "text/plain": [
       "  Policy no.  children  smoker  age   bmi  charges in INR  Gender_female  \\\n",
       "0  PLC157006         0       0   23  34.4        1826.843              0   \n",
       "1  PLC157033         1       0   19  24.6        1837.237              0   \n",
       "2  PLC157060         0       0   56  40.3       10602.385              0   \n",
       "3  PLC157087         1       0   30  32.4        4149.736              1   \n",
       "4  PLC157186         5       0   19  28.6        4687.797              1   \n",
       "\n",
       "   Gender_male         Weight    Age_Category  \n",
       "0            1    Over Weight  Youth category  \n",
       "1            1  Normal Weight  Youth category  \n",
       "2            1    Over Weight  Adult Category  \n",
       "3            0    Over Weight  Adult Category  \n",
       "4            0    Over Weight  Youth category  "
      ]
     },
     "execution_count": 91,
     "metadata": {},
     "output_type": "execute_result"
    }
   ],
   "source": [
    "df.head()"
   ]
  },
  {
   "cell_type": "code",
   "execution_count": 92,
   "id": "37b13e8b",
   "metadata": {},
   "outputs": [],
   "source": [
    "df.drop('Policy no.',axis=1,inplace=True)"
   ]
  },
  {
   "cell_type": "code",
   "execution_count": 93,
   "id": "9ce412aa",
   "metadata": {},
   "outputs": [],
   "source": [
    "df.drop('Weight',axis=1,inplace=True)"
   ]
  },
  {
   "cell_type": "code",
   "execution_count": 94,
   "id": "5dd29890",
   "metadata": {},
   "outputs": [],
   "source": [
    "df.drop('Age_Category',axis=1,inplace=True)"
   ]
  },
  {
   "cell_type": "code",
   "execution_count": 95,
   "id": "eaabc94a",
   "metadata": {},
   "outputs": [
    {
     "data": {
      "text/html": [
       "<div>\n",
       "<style scoped>\n",
       "    .dataframe tbody tr th:only-of-type {\n",
       "        vertical-align: middle;\n",
       "    }\n",
       "\n",
       "    .dataframe tbody tr th {\n",
       "        vertical-align: top;\n",
       "    }\n",
       "\n",
       "    .dataframe thead th {\n",
       "        text-align: right;\n",
       "    }\n",
       "</style>\n",
       "<table border=\"1\" class=\"dataframe\">\n",
       "  <thead>\n",
       "    <tr style=\"text-align: right;\">\n",
       "      <th></th>\n",
       "      <th>children</th>\n",
       "      <th>smoker</th>\n",
       "      <th>age</th>\n",
       "      <th>bmi</th>\n",
       "      <th>charges in INR</th>\n",
       "      <th>Gender_female</th>\n",
       "      <th>Gender_male</th>\n",
       "    </tr>\n",
       "  </thead>\n",
       "  <tbody>\n",
       "    <tr>\n",
       "      <th>0</th>\n",
       "      <td>0</td>\n",
       "      <td>0</td>\n",
       "      <td>23</td>\n",
       "      <td>34.4</td>\n",
       "      <td>1826.843</td>\n",
       "      <td>0</td>\n",
       "      <td>1</td>\n",
       "    </tr>\n",
       "    <tr>\n",
       "      <th>1</th>\n",
       "      <td>1</td>\n",
       "      <td>0</td>\n",
       "      <td>19</td>\n",
       "      <td>24.6</td>\n",
       "      <td>1837.237</td>\n",
       "      <td>0</td>\n",
       "      <td>1</td>\n",
       "    </tr>\n",
       "    <tr>\n",
       "      <th>2</th>\n",
       "      <td>0</td>\n",
       "      <td>0</td>\n",
       "      <td>56</td>\n",
       "      <td>40.3</td>\n",
       "      <td>10602.385</td>\n",
       "      <td>0</td>\n",
       "      <td>1</td>\n",
       "    </tr>\n",
       "    <tr>\n",
       "      <th>3</th>\n",
       "      <td>1</td>\n",
       "      <td>0</td>\n",
       "      <td>30</td>\n",
       "      <td>32.4</td>\n",
       "      <td>4149.736</td>\n",
       "      <td>1</td>\n",
       "      <td>0</td>\n",
       "    </tr>\n",
       "    <tr>\n",
       "      <th>4</th>\n",
       "      <td>5</td>\n",
       "      <td>0</td>\n",
       "      <td>19</td>\n",
       "      <td>28.6</td>\n",
       "      <td>4687.797</td>\n",
       "      <td>1</td>\n",
       "      <td>0</td>\n",
       "    </tr>\n",
       "  </tbody>\n",
       "</table>\n",
       "</div>"
      ],
      "text/plain": [
       "   children  smoker  age   bmi  charges in INR  Gender_female  Gender_male\n",
       "0         0       0   23  34.4        1826.843              0            1\n",
       "1         1       0   19  24.6        1837.237              0            1\n",
       "2         0       0   56  40.3       10602.385              0            1\n",
       "3         1       0   30  32.4        4149.736              1            0\n",
       "4         5       0   19  28.6        4687.797              1            0"
      ]
     },
     "execution_count": 95,
     "metadata": {},
     "output_type": "execute_result"
    }
   ],
   "source": [
    "df.head()"
   ]
  },
  {
   "cell_type": "markdown",
   "id": "8623f7ab",
   "metadata": {},
   "source": [
    "#### Finding Corelation of each columns "
   ]
  },
  {
   "cell_type": "code",
   "execution_count": 96,
   "id": "7803b9d6",
   "metadata": {
    "scrolled": true
   },
   "outputs": [
    {
     "data": {
      "text/html": [
       "<div>\n",
       "<style scoped>\n",
       "    .dataframe tbody tr th:only-of-type {\n",
       "        vertical-align: middle;\n",
       "    }\n",
       "\n",
       "    .dataframe tbody tr th {\n",
       "        vertical-align: top;\n",
       "    }\n",
       "\n",
       "    .dataframe thead th {\n",
       "        text-align: right;\n",
       "    }\n",
       "</style>\n",
       "<table border=\"1\" class=\"dataframe\">\n",
       "  <thead>\n",
       "    <tr style=\"text-align: right;\">\n",
       "      <th></th>\n",
       "      <th>children</th>\n",
       "      <th>smoker</th>\n",
       "      <th>age</th>\n",
       "      <th>bmi</th>\n",
       "      <th>charges in INR</th>\n",
       "      <th>Gender_female</th>\n",
       "      <th>Gender_male</th>\n",
       "    </tr>\n",
       "  </thead>\n",
       "  <tbody>\n",
       "    <tr>\n",
       "      <th>children</th>\n",
       "      <td>1.000000</td>\n",
       "      <td>0.007673</td>\n",
       "      <td>0.042469</td>\n",
       "      <td>0.012759</td>\n",
       "      <td>0.067998</td>\n",
       "      <td>-0.017163</td>\n",
       "      <td>0.017163</td>\n",
       "    </tr>\n",
       "    <tr>\n",
       "      <th>smoker</th>\n",
       "      <td>0.007673</td>\n",
       "      <td>1.000000</td>\n",
       "      <td>-0.025019</td>\n",
       "      <td>0.003750</td>\n",
       "      <td>0.787251</td>\n",
       "      <td>-0.076185</td>\n",
       "      <td>0.076185</td>\n",
       "    </tr>\n",
       "    <tr>\n",
       "      <th>age</th>\n",
       "      <td>0.042469</td>\n",
       "      <td>-0.025019</td>\n",
       "      <td>1.000000</td>\n",
       "      <td>0.109272</td>\n",
       "      <td>0.299008</td>\n",
       "      <td>0.020856</td>\n",
       "      <td>-0.020856</td>\n",
       "    </tr>\n",
       "    <tr>\n",
       "      <th>bmi</th>\n",
       "      <td>0.012759</td>\n",
       "      <td>0.003750</td>\n",
       "      <td>0.109272</td>\n",
       "      <td>1.000000</td>\n",
       "      <td>0.198341</td>\n",
       "      <td>-0.046371</td>\n",
       "      <td>0.046371</td>\n",
       "    </tr>\n",
       "    <tr>\n",
       "      <th>charges in INR</th>\n",
       "      <td>0.067998</td>\n",
       "      <td>0.787251</td>\n",
       "      <td>0.299008</td>\n",
       "      <td>0.198341</td>\n",
       "      <td>1.000000</td>\n",
       "      <td>-0.057292</td>\n",
       "      <td>0.057292</td>\n",
       "    </tr>\n",
       "    <tr>\n",
       "      <th>Gender_female</th>\n",
       "      <td>-0.017163</td>\n",
       "      <td>-0.076185</td>\n",
       "      <td>0.020856</td>\n",
       "      <td>-0.046371</td>\n",
       "      <td>-0.057292</td>\n",
       "      <td>1.000000</td>\n",
       "      <td>-1.000000</td>\n",
       "    </tr>\n",
       "    <tr>\n",
       "      <th>Gender_male</th>\n",
       "      <td>0.017163</td>\n",
       "      <td>0.076185</td>\n",
       "      <td>-0.020856</td>\n",
       "      <td>0.046371</td>\n",
       "      <td>0.057292</td>\n",
       "      <td>-1.000000</td>\n",
       "      <td>1.000000</td>\n",
       "    </tr>\n",
       "  </tbody>\n",
       "</table>\n",
       "</div>"
      ],
      "text/plain": [
       "                children    smoker       age       bmi  charges in INR  \\\n",
       "children        1.000000  0.007673  0.042469  0.012759        0.067998   \n",
       "smoker          0.007673  1.000000 -0.025019  0.003750        0.787251   \n",
       "age             0.042469 -0.025019  1.000000  0.109272        0.299008   \n",
       "bmi             0.012759  0.003750  0.109272  1.000000        0.198341   \n",
       "charges in INR  0.067998  0.787251  0.299008  0.198341        1.000000   \n",
       "Gender_female  -0.017163 -0.076185  0.020856 -0.046371       -0.057292   \n",
       "Gender_male     0.017163  0.076185 -0.020856  0.046371        0.057292   \n",
       "\n",
       "                Gender_female  Gender_male  \n",
       "children            -0.017163     0.017163  \n",
       "smoker              -0.076185     0.076185  \n",
       "age                  0.020856    -0.020856  \n",
       "bmi                 -0.046371     0.046371  \n",
       "charges in INR      -0.057292     0.057292  \n",
       "Gender_female        1.000000    -1.000000  \n",
       "Gender_male         -1.000000     1.000000  "
      ]
     },
     "execution_count": 96,
     "metadata": {},
     "output_type": "execute_result"
    }
   ],
   "source": [
    "df.corr()"
   ]
  },
  {
   "cell_type": "markdown",
   "id": "cfd8b1af",
   "metadata": {},
   "source": [
    "#### From this We can Understand That Charges in INR are Mostly Corelated with Age and BMI"
   ]
  },
  {
   "cell_type": "markdown",
   "id": "41759354",
   "metadata": {},
   "source": [
    "### Split Data into Features (x) and Target (y)"
   ]
  },
  {
   "cell_type": "code",
   "execution_count": 97,
   "id": "c0706347",
   "metadata": {},
   "outputs": [],
   "source": [
    "x=df.drop('charges in INR',axis=1)\n",
    "y=df['charges in INR']"
   ]
  },
  {
   "cell_type": "code",
   "execution_count": 98,
   "id": "b3cd5882",
   "metadata": {},
   "outputs": [
    {
     "data": {
      "text/html": [
       "<div>\n",
       "<style scoped>\n",
       "    .dataframe tbody tr th:only-of-type {\n",
       "        vertical-align: middle;\n",
       "    }\n",
       "\n",
       "    .dataframe tbody tr th {\n",
       "        vertical-align: top;\n",
       "    }\n",
       "\n",
       "    .dataframe thead th {\n",
       "        text-align: right;\n",
       "    }\n",
       "</style>\n",
       "<table border=\"1\" class=\"dataframe\">\n",
       "  <thead>\n",
       "    <tr style=\"text-align: right;\">\n",
       "      <th></th>\n",
       "      <th>children</th>\n",
       "      <th>smoker</th>\n",
       "      <th>age</th>\n",
       "      <th>bmi</th>\n",
       "      <th>Gender_female</th>\n",
       "      <th>Gender_male</th>\n",
       "    </tr>\n",
       "  </thead>\n",
       "  <tbody>\n",
       "    <tr>\n",
       "      <th>0</th>\n",
       "      <td>0</td>\n",
       "      <td>0</td>\n",
       "      <td>23</td>\n",
       "      <td>34.400</td>\n",
       "      <td>0</td>\n",
       "      <td>1</td>\n",
       "    </tr>\n",
       "    <tr>\n",
       "      <th>1</th>\n",
       "      <td>1</td>\n",
       "      <td>0</td>\n",
       "      <td>19</td>\n",
       "      <td>24.600</td>\n",
       "      <td>0</td>\n",
       "      <td>1</td>\n",
       "    </tr>\n",
       "    <tr>\n",
       "      <th>2</th>\n",
       "      <td>0</td>\n",
       "      <td>0</td>\n",
       "      <td>56</td>\n",
       "      <td>40.300</td>\n",
       "      <td>0</td>\n",
       "      <td>1</td>\n",
       "    </tr>\n",
       "    <tr>\n",
       "      <th>3</th>\n",
       "      <td>1</td>\n",
       "      <td>0</td>\n",
       "      <td>30</td>\n",
       "      <td>32.400</td>\n",
       "      <td>1</td>\n",
       "      <td>0</td>\n",
       "    </tr>\n",
       "    <tr>\n",
       "      <th>4</th>\n",
       "      <td>5</td>\n",
       "      <td>0</td>\n",
       "      <td>19</td>\n",
       "      <td>28.600</td>\n",
       "      <td>1</td>\n",
       "      <td>0</td>\n",
       "    </tr>\n",
       "    <tr>\n",
       "      <th>...</th>\n",
       "      <td>...</td>\n",
       "      <td>...</td>\n",
       "      <td>...</td>\n",
       "      <td>...</td>\n",
       "      <td>...</td>\n",
       "      <td>...</td>\n",
       "    </tr>\n",
       "    <tr>\n",
       "      <th>1333</th>\n",
       "      <td>1</td>\n",
       "      <td>1</td>\n",
       "      <td>39</td>\n",
       "      <td>29.925</td>\n",
       "      <td>0</td>\n",
       "      <td>1</td>\n",
       "    </tr>\n",
       "    <tr>\n",
       "      <th>1334</th>\n",
       "      <td>0</td>\n",
       "      <td>1</td>\n",
       "      <td>18</td>\n",
       "      <td>21.660</td>\n",
       "      <td>1</td>\n",
       "      <td>0</td>\n",
       "    </tr>\n",
       "    <tr>\n",
       "      <th>1335</th>\n",
       "      <td>2</td>\n",
       "      <td>1</td>\n",
       "      <td>42</td>\n",
       "      <td>24.605</td>\n",
       "      <td>0</td>\n",
       "      <td>1</td>\n",
       "    </tr>\n",
       "    <tr>\n",
       "      <th>1336</th>\n",
       "      <td>0</td>\n",
       "      <td>1</td>\n",
       "      <td>29</td>\n",
       "      <td>21.850</td>\n",
       "      <td>1</td>\n",
       "      <td>0</td>\n",
       "    </tr>\n",
       "    <tr>\n",
       "      <th>1337</th>\n",
       "      <td>0</td>\n",
       "      <td>1</td>\n",
       "      <td>62</td>\n",
       "      <td>26.695</td>\n",
       "      <td>0</td>\n",
       "      <td>1</td>\n",
       "    </tr>\n",
       "  </tbody>\n",
       "</table>\n",
       "<p>1338 rows × 6 columns</p>\n",
       "</div>"
      ],
      "text/plain": [
       "      children  smoker  age     bmi  Gender_female  Gender_male\n",
       "0            0       0   23  34.400              0            1\n",
       "1            1       0   19  24.600              0            1\n",
       "2            0       0   56  40.300              0            1\n",
       "3            1       0   30  32.400              1            0\n",
       "4            5       0   19  28.600              1            0\n",
       "...        ...     ...  ...     ...            ...          ...\n",
       "1333         1       1   39  29.925              0            1\n",
       "1334         0       1   18  21.660              1            0\n",
       "1335         2       1   42  24.605              0            1\n",
       "1336         0       1   29  21.850              1            0\n",
       "1337         0       1   62  26.695              0            1\n",
       "\n",
       "[1338 rows x 6 columns]"
      ]
     },
     "execution_count": 98,
     "metadata": {},
     "output_type": "execute_result"
    }
   ],
   "source": [
    "x"
   ]
  },
  {
   "cell_type": "code",
   "execution_count": 99,
   "id": "39b6ed43",
   "metadata": {},
   "outputs": [
    {
     "data": {
      "text/plain": [
       "0        1826.84300\n",
       "1        1837.23700\n",
       "2       10602.38500\n",
       "3        4149.73600\n",
       "4        4687.79700\n",
       "           ...     \n",
       "1333    22462.04375\n",
       "1334    14283.45940\n",
       "1335    21259.37795\n",
       "1336    16115.30450\n",
       "1337    28101.33305\n",
       "Name: charges in INR, Length: 1338, dtype: float64"
      ]
     },
     "execution_count": 99,
     "metadata": {},
     "output_type": "execute_result"
    }
   ],
   "source": [
    "y"
   ]
  },
  {
   "cell_type": "markdown",
   "id": "f38a7fb1",
   "metadata": {},
   "source": [
    "#### Split Data into Training and Testing Sets"
   ]
  },
  {
   "cell_type": "code",
   "execution_count": 100,
   "id": "523d250d",
   "metadata": {},
   "outputs": [],
   "source": [
    "X_train, X_test, y_train, y_test = train_test_split(x, y, test_size=0.2, random_state=42)"
   ]
  },
  {
   "cell_type": "markdown",
   "id": "ced5fe40",
   "metadata": {},
   "source": [
    "####  Initialize and train a Linear Regression model"
   ]
  },
  {
   "cell_type": "code",
   "execution_count": 101,
   "id": "5d4bb048",
   "metadata": {},
   "outputs": [
    {
     "data": {
      "text/plain": [
       "LinearRegression()"
      ]
     },
     "execution_count": 101,
     "metadata": {},
     "output_type": "execute_result"
    }
   ],
   "source": [
    "model = LinearRegression()\n",
    "model.fit(X_train, y_train)"
   ]
  },
  {
   "cell_type": "markdown",
   "id": "ffdb437a",
   "metadata": {},
   "source": [
    "#### Make predictions on the test set"
   ]
  },
  {
   "cell_type": "code",
   "execution_count": 102,
   "id": "47a233ea",
   "metadata": {},
   "outputs": [],
   "source": [
    "y_pred = model.predict(X_test)"
   ]
  },
  {
   "cell_type": "markdown",
   "id": "706e798a",
   "metadata": {},
   "source": [
    "#### Evaluating the model\n"
   ]
  },
  {
   "cell_type": "markdown",
   "id": "47d9b822",
   "metadata": {},
   "source": [
    "mse=Mean squared error\n",
    "mae=Mean absolute error\n",
    "rmse=Root Mean Squared Error\n",
    "r2= R-squared Score"
   ]
  },
  {
   "cell_type": "code",
   "execution_count": 103,
   "id": "de1e648e",
   "metadata": {},
   "outputs": [],
   "source": [
    "mse = mean_squared_error(y_test, y_pred)\n",
    "rmse = np.sqrt(mse)\n",
    "mae = mean_absolute_error(y_test, y_pred)\n",
    "r2 = r2_score(y_test, y_pred)\n",
    "\n"
   ]
  },
  {
   "cell_type": "markdown",
   "id": "c7e4da23",
   "metadata": {},
   "source": [
    "##### Printing the values"
   ]
  },
  {
   "cell_type": "code",
   "execution_count": 104,
   "id": "9d1fb3cb",
   "metadata": {},
   "outputs": [
    {
     "name": "stdout",
     "output_type": "stream",
     "text": [
      "Mean Squared Error (MSE): 38561491.17955518\n",
      "Root Mean Squared Error (RMSE): 6209.789946492166\n",
      "Mean Absolute Error (MAE): 4216.4212972131945\n",
      "R-squared (R2) Score: 0.7286261479143632\n"
     ]
    }
   ],
   "source": [
    "print(\"Mean Squared Error (MSE):\", mse)\n",
    "print(\"Root Mean Squared Error (RMSE):\", rmse)\n",
    "print(\"Mean Absolute Error (MAE):\", mae)\n",
    "print(\"R-squared (R2) Score:\", r2)"
   ]
  },
  {
   "cell_type": "code",
   "execution_count": 105,
   "id": "7f5f6339",
   "metadata": {},
   "outputs": [
    {
     "name": "stdout",
     "output_type": "stream",
     "text": [
      "Model Coefficients: [ 4.33984343e+02  2.40966455e+04  2.56685360e+02  3.07504184e+02\n",
      "  2.10855199e+01 -2.10855199e+01]\n",
      "Model Intercept: -11644.303266585008\n"
     ]
    }
   ],
   "source": [
    "print(\"Model Coefficients:\", model.coef_)\n",
    "print(\"Model Intercept:\", model.intercept_)"
   ]
  },
  {
   "cell_type": "markdown",
   "id": "476fdaff",
   "metadata": {},
   "source": [
    "### Hyper parametrically tuning the model for getting best result"
   ]
  },
  {
   "cell_type": "code",
   "execution_count": 106,
   "id": "3bb25c37",
   "metadata": {},
   "outputs": [],
   "source": [
    "scaler = StandardScaler()\n",
    "X_train_scaled = scaler.fit_transform(X_train)\n",
    "X_test_scaled = scaler.transform(X_test)\n"
   ]
  },
  {
   "cell_type": "markdown",
   "id": "e450350a",
   "metadata": {},
   "source": [
    "#### Creating the GridSearchCV object with cross-validation and Fiting the grid search to the data"
   ]
  },
  {
   "cell_type": "code",
   "execution_count": 107,
   "id": "bc9ca322",
   "metadata": {},
   "outputs": [
    {
     "name": "stdout",
     "output_type": "stream",
     "text": [
      "Fitting 5 folds for each of 2 candidates, totalling 10 fits\n"
     ]
    },
    {
     "data": {
      "text/plain": [
       "GridSearchCV(cv=5, estimator=LinearRegression(),\n",
       "             param_grid={'fit_intercept': [True, False]},\n",
       "             scoring='neg_mean_squared_error', verbose=1)"
      ]
     },
     "execution_count": 107,
     "metadata": {},
     "output_type": "execute_result"
    }
   ],
   "source": [
    "param_grid = {'fit_intercept': [True, False]}\n",
    "grid_search = GridSearchCV(model, param_grid, cv=5, scoring='neg_mean_squared_error', verbose=1)\n",
    "grid_search.fit(X_train_scaled, y_train)\n",
    "\n"
   ]
  },
  {
   "cell_type": "markdown",
   "id": "b5cf1bee",
   "metadata": {},
   "source": [
    "####  Getting the best hyperparameters and Model"
   ]
  },
  {
   "cell_type": "code",
   "execution_count": 111,
   "id": "3b383aab",
   "metadata": {},
   "outputs": [],
   "source": [
    "best_model = grid_search.best_estimator_\n",
    "best_params = grid_search.best_params_"
   ]
  },
  {
   "cell_type": "code",
   "execution_count": 112,
   "id": "8ab3326b",
   "metadata": {},
   "outputs": [
    {
     "name": "stdout",
     "output_type": "stream",
     "text": [
      "Best Model - Mean Squared Error: 38561491.17955518\n",
      "rmse :6209.789946492166\n",
      "R-squared: 0.7286261479143632\n"
     ]
    }
   ],
   "source": [
    "mse = mean_squared_error(y_test, y_pred)\n",
    "rmse = np.sqrt(mse)\n",
    "r_squared = r2_score(y_test, y_pred)\n",
    "\n",
    "print(f'Best Model - Mean Squared Error: {mse}')\n",
    "print(f'rmse :{rmse}')\n",
    "print(f'R-squared: {r_squared}')\n"
   ]
  },
  {
   "cell_type": "markdown",
   "id": "e0ff4554",
   "metadata": {},
   "source": [
    "### Visualising the Actual and Predicted Claim Amount"
   ]
  },
  {
   "cell_type": "code",
   "execution_count": 110,
   "id": "fc87a968",
   "metadata": {},
   "outputs": [
    {
     "data": {
      "image/png": "[encoded data removed]",
      "text/plain": [
       "<Figure size 640x480 with 1 Axes>"
      ]
     },
     "metadata": {},
     "output_type": "display_data"
    }
   ],
   "source": [
    "plt.scatter(y_test, y_pred)\n",
    "plt.xlabel(\"Actual Claimed Amount\")\n",
    "plt.ylabel(\"Predicted Claimed Amount\")\n",
    "plt.title(\"Actual vs. Predicted Claimed Amount\")\n",
    "plt.show()"
   ]
  },
  {
   "cell_type": "markdown",
   "id": "c4672410",
   "metadata": {},
   "source": [
    "### From this linear regression Model we got About 0.72 accuracy which is nearly to one.About 72% of the variability in the claim amounts can be explained by the features included in the model. This suggests that the chosen features have some influence on the predicted claim amounts"
   ]
  },
  {
   "cell_type": "code",
   "execution_count": null,
   "id": "1ac0c4cb",
   "metadata": {},
   "outputs": [],
   "source": []
  }
 ],
 "metadata": {
  "kernelspec": {
   "display_name": "Python 3 (ipykernel)",
   "language": "python",
   "name": "python3"
  },
  "language_info": {
   "codemirror_mode": {
    "name": "ipython",
    "version": 3
   },
   "file_extension": ".py",
   "mimetype": "text/x-python",
   "name": "python",
   "nbconvert_exporter": "python",
   "pygments_lexer": "ipython3",
   "version": "3.9.13"
  }
 },
 "nbformat": 4,
 "nbformat_minor": 5
}
